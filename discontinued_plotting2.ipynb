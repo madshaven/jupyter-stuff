{
 "cells": [
  {
   "cell_type": "markdown",
   "id": "14c7dc9c",
   "metadata": {},
   "source": [
    "Et enkelt skript som plotter en funksjon som ikke er kontinuerlig."
   ]
  },
  {
   "cell_type": "code",
   "execution_count": 1,
   "id": "dfaf9b54",
   "metadata": {},
   "outputs": [],
   "source": [
    "from matplotlib.pyplot import plot, legend, show"
   ]
  },
  {
   "cell_type": "markdown",
   "id": "294005e2",
   "metadata": {},
   "source": [
    "Vi lager nå en funksjon som har en diskontinutet for $x = 1$. Dette gjøres ved å returnere `None`."
   ]
  },
  {
   "cell_type": "code",
   "execution_count": 2,
   "id": "28bd04ee",
   "metadata": {},
   "outputs": [],
   "source": [
    "def f(x):\n",
    "    if x == 1:\n",
    "        return None\n",
    "    elif x < 1:\n",
    "        return 0\n",
    "    else:\n",
    "        return x**2"
   ]
  },
  {
   "cell_type": "markdown",
   "id": "dd1accc9",
   "metadata": {},
   "source": [
    "Vi ønsker å plotte et interval for $x$, fra `xmin` til `xmax`. For å få dette til beregner vi en $x$-verdi for hver av $n$ punkter, og så regner ut $y = f(x)$ for hvert av disse. Vi lagrer hver $x$- og $y$-verdi til hver sin liste. (Se funksjoner som `linspace` eller `arange` fra `numpy` om du øsnker å automatisere dette.)"
   ]
  },
  {
   "cell_type": "code",
   "execution_count": 3,
   "id": "f824f237",
   "metadata": {},
   "outputs": [],
   "source": [
    "xverdier = []\n",
    "yverdier = []\n",
    "xmin = 0\n",
    "xmax = 2\n",
    "n = 100\n",
    "for i in range(n):\n",
    "    x = xmin + (xmax - xmin) * i / n\n",
    "    y = f(x)\n",
    "    xverdier.append(x)\n",
    "    yverdier.append(y)"
   ]
  },
  {
   "cell_type": "markdown",
   "id": "5e23bb9d",
   "metadata": {},
   "source": [
    "Når vi nå har veridene våre er det lett å plotte, navngi linja med `label`, si at `legend` skal vises i plottet, og vise selve plottet, slik:"
   ]
  },
  {
   "cell_type": "code",
   "execution_count": 4,
   "id": "e8bcddac",
   "metadata": {},
   "outputs": [
    {
     "data": {
      "image/png": "[encoded data removed]",
      "text/plain": [
       "<Figure size 432x288 with 1 Axes>"
      ]
     },
     "metadata": {
      "needs_background": "light"
     },
     "output_type": "display_data"
    }
   ],
   "source": [
    "plot(xverdier, yverdier, label='f(x)')\n",
    "legend()\n",
    "show()"
   ]
  },
  {
   "cell_type": "markdown",
   "id": "13480525",
   "metadata": {},
   "source": [
    "Forsøk nå å endre verdien til $n$. Er det forskjell på partall og oddetall? Hvorfor?"
   ]
  }
 ],
 "metadata": {
  "kernelspec": {
   "display_name": "Python 3",
   "language": "python",
   "name": "python3"
  },
  "language_info": {
   "codemirror_mode": {
    "name": "ipython",
    "version": 3
   },
   "file_extension": ".py",
   "mimetype": "text/x-python",
   "name": "python",
   "nbconvert_exporter": "python",
   "pygments_lexer": "ipython3",
   "version": "3.8.8"
  }
 },
 "nbformat": 4,
 "nbformat_minor": 5
}
